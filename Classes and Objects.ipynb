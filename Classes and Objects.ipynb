{
 "cells": [
  {
   "cell_type": "markdown",
   "id": "8bcc8778",
   "metadata": {
    "id": "8bcc8778"
   },
   "source": [
    "#### Create the classes and functions as per following description: \n",
    "- Create a class Person : \n",
    "   - The attributes of the class are name, age, city\n",
    "   - The functions of the class are :\n",
    "       - __init__(self, name, age, city)\n",
    "       - show_details(self)\n",
    "       - update_city(self, new_city)\n",
    "       \n",
    "- Create a class Employee which inherits the class Person:\n",
    "    - The attributes of the class are name , age, city, salary, position, dept\n",
    "    - The functions of the class are : \n",
    "        - __init__(self, name , age, city, salary, position, dept)\n",
    "        - show_details(self)\n",
    "        - update_salary(self, new_salary)\n",
    "        - update_dept(self, new_dept)\n",
    "        - update_position(self, new_pos)\n",
    "        - inc_salary(self)\n",
    "        - dec_salary\n",
    "        \n",
    "- Make use of the super function when necessary\n",
    "- Create objects and Demonstrate working of all the functions"
   ]
  },
  {
   "cell_type": "code",
   "execution_count": 5,
   "id": "ef839681",
   "metadata": {
    "id": "ef839681"
   },
   "outputs": [],
   "source": [
    "#creating class and defininf attributes\n",
    "class Person:\n",
    "    name = None\n",
    "    age = None\n",
    "    city = None\n",
    "    \n",
    "    def __init__(self,name,age,city) :\n",
    "        self.name = name\n",
    "        self.age = age\n",
    "        self.city = city\n",
    "        \n",
    "    def show_details(self):\n",
    "        print('Name:', self.name)\n",
    "        print('Age:', self.age)\n",
    "        print('City:', self.city)\n",
    "        \n",
    "    def update_city(self,new_city):\n",
    "        self.city = new_city\n",
    "\n",
    "class Employee(Person):\n",
    "    \n",
    "    def __init__(self,name,age,city,salary,position,dept):\n",
    "        super().__init__(name, age, city)\n",
    "        self.salary = salary\n",
    "        self.position = position\n",
    "        self.dept = dept\n",
    "    \n",
    "    def show_details(self):\n",
    "        super().show_details()\n",
    "        print(\"Salary:\", self.salary)\n",
    "        print(\"Position:\", self.position)\n",
    "        print(\"Department:\", self.dept)\n",
    "    \n",
    "    def update_salary(self, new_salary):\n",
    "        self.salary = new_salary\n",
    "    \n",
    "    def update_dept(self, new_dept):\n",
    "        self.dept = new_dept\n",
    "    \n",
    "    def update_position(self, new_pos):\n",
    "        self.position = new_pos\n",
    "    \n",
    "    def inc_salary(self, inc_amount):\n",
    "        self.salary += inc_amount\n",
    "    \n",
    "    def dec_salary(self, dec_amount):\n",
    "        self.salary -= dec_amount\n",
    "    "
   ]
  },
  {
   "cell_type": "code",
   "execution_count": 6,
   "id": "8d9d250f",
   "metadata": {},
   "outputs": [
    {
     "name": "stdout",
     "output_type": "stream",
     "text": [
      "Name: Gagan\n",
      "Age: 27\n",
      "City: Hyderabad\n"
     ]
    }
   ],
   "source": [
    "person = Person('Gagan',27,'Hyderabad')\n",
    "\n",
    "person.show_details()"
   ]
  },
  {
   "cell_type": "code",
   "execution_count": 7,
   "id": "cffeaf74",
   "metadata": {},
   "outputs": [
    {
     "name": "stdout",
     "output_type": "stream",
     "text": [
      "Name: Gagan\n",
      "Age: 27\n",
      "City: Sub_Hyderabad\n"
     ]
    }
   ],
   "source": [
    "person.update_city('Sub_Hyderabad')\n",
    "\n",
    "person.show_details()"
   ]
  },
  {
   "cell_type": "code",
   "execution_count": 8,
   "id": "9dcb53b8",
   "metadata": {},
   "outputs": [
    {
     "name": "stdout",
     "output_type": "stream",
     "text": [
      "Name: Ram\n",
      "Age: 2500\n",
      "City: Ayodhya\n",
      "Salary: 50000\n",
      "Position: God\n",
      "Department: Humanity\n"
     ]
    }
   ],
   "source": [
    "employee = Employee('Ram',2500,'Ayodhya',50000,'God','Humanity')\n",
    "\n",
    "employee.show_details()"
   ]
  },
  {
   "cell_type": "code",
   "execution_count": 9,
   "id": "c55e1772",
   "metadata": {},
   "outputs": [
    {
     "name": "stdout",
     "output_type": "stream",
     "text": [
      "Name: Ram\n",
      "Age: 2500\n",
      "City: Ayodhya\n",
      "Salary: 55000\n",
      "Position: God\n",
      "Department: Humanity\n"
     ]
    }
   ],
   "source": [
    "employee.inc_salary(5000)\n",
    "\n",
    "employee.show_details()"
   ]
  },
  {
   "cell_type": "code",
   "execution_count": null,
   "id": "70646c4c",
   "metadata": {},
   "outputs": [],
   "source": []
  }
 ],
 "metadata": {
  "colab": {
   "provenance": []
  },
  "kernelspec": {
   "display_name": "Python 3 (ipykernel)",
   "language": "python",
   "name": "python3"
  },
  "language_info": {
   "codemirror_mode": {
    "name": "ipython",
    "version": 3
   },
   "file_extension": ".py",
   "mimetype": "text/x-python",
   "name": "python",
   "nbconvert_exporter": "python",
   "pygments_lexer": "ipython3",
   "version": "3.9.13"
  }
 },
 "nbformat": 4,
 "nbformat_minor": 5
}
