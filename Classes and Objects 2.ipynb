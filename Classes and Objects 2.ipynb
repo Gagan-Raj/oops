{
 "cells": [
  {
   "cell_type": "markdown",
   "id": "8a30d880",
   "metadata": {
    "id": "8a30d880"
   },
   "source": [
    "# Assessment - 6 Gradable\n",
    "\n",
    "- Each question carries 5 or 4 marks\n",
    "- Marks will be assigned in terms of:\n",
    "    \n",
    "    **1. Expected output**\n",
    "    \n",
    "    **2. Quality and Explainability of code**\n",
    "\n",
    "    ***Go back through the script and type a comment above each line explaining in English what it does.***\n",
    "\n",
    "    **3. Copied code, if found, will result in 0 marks for that question. To avoid this make as much comments in the code to explain the approach**"
   ]
  },
  {
   "cell_type": "markdown",
   "id": "86255064",
   "metadata": {
    "id": "86255064"
   },
   "source": [
    "### 1. \n",
    "\n",
    "Write a Program to create a class 'Company' and using the class instance and print all the writable attributes of that object such as age, gender, salary, profession and designation. We take atleast 5 employees of an organization"
   ]
  },
  {
   "cell_type": "code",
   "execution_count": 1,
   "id": "4a098962",
   "metadata": {
    "id": "4a098962"
   },
   "outputs": [
    {
     "name": "stdout",
     "output_type": "stream",
     "text": [
      "Name: Ravi\n",
      "Age: 35\n",
      "Gender: Male\n",
      "Salary: 75000\n",
      "Profession: Engineer\n",
      "Designation: Manager\n",
      "\n",
      "Name: Ashwin\n",
      "Age: 32\n",
      "Gender: Female\n",
      "Salary: 65000\n",
      "Profession: Doctor\n",
      "Designation: Senior Manager\n",
      "\n",
      "Name: Kohli\n",
      "Age: 40\n",
      "Gender: Male\n",
      "Salary: 80000\n",
      "Profession: Teacher\n",
      "Designation: Director\n",
      "\n",
      "Name: Pant\n",
      "Age: 28\n",
      "Gender: Female\n",
      "Salary: 55000\n",
      "Profession: Lawyer\n",
      "Designation: Associate Manager\n",
      "\n",
      "Name: Rohit\n",
      "Age: 45\n",
      "Gender: Male\n",
      "Salary: 90000\n",
      "Profession: Spy\n",
      "Designation: CEO\n",
      "\n"
     ]
    }
   ],
   "source": [
    "class Company:\n",
    "    def __init__(self, name, age, gender, salary, profession, designation):\n",
    "        self.name = name\n",
    "        self.age = age\n",
    "        self.gender = gender\n",
    "        self.salary = salary\n",
    "        self.profession = profession\n",
    "        self.designation = designation\n",
    "    \n",
    "    def show_details(self):\n",
    "        print(\"Name:\", self.name)\n",
    "        print(\"Age:\", self.age)\n",
    "        print(\"Gender:\", self.gender)\n",
    "        print(\"Salary:\", self.salary)\n",
    "        print(\"Profession:\", self.profession)\n",
    "        print(\"Designation:\", self.designation)\n",
    "        print()\n",
    "\n",
    "\n",
    "employee_1 = Company(\"Ravi\", 35, \"Male\", 75000, \"Engineer\", \"Manager\")\n",
    "employee_2 = Company(\"Ashwin\", 32, \"Female\", 65000, \"Doctor\", \"Senior Manager\")\n",
    "employee_3 = Company(\"Kohli\", 40, \"Male\", 80000, \"Teacher\", \"Director\")\n",
    "employee_4 = Company(\"Pant\", 28, \"Female\", 55000, \"Lawyer\", \"Associate Manager\")\n",
    "employee_5 = Company(\"Rohit\", 45, \"Male\", 90000, \"Spy\", \"CEO\")\n",
    "\n",
    "\n",
    "employee_1.show_details()\n",
    "employee_2.show_details()\n",
    "employee_3.show_details()\n",
    "employee_4.show_details()\n",
    "employee_5.show_details()\n",
    "\n",
    "\n",
    "\n",
    "\n"
   ]
  },
  {
   "cell_type": "markdown",
   "id": "df5c6917",
   "metadata": {
    "id": "df5c6917"
   },
   "source": [
    "### 2. \n",
    "\n",
    "Write a program to store details of 6 customers in a text file with features of Unique Customer Id, Name, Location, Phone Number, Last Purchase Date for an ecommerce website that canbe considered for future records\n"
   ]
  },
  {
   "cell_type": "code",
   "execution_count": 13,
   "id": "6aaac08a",
   "metadata": {
    "id": "6aaac08a"
   },
   "outputs": [],
   "source": [
    "def write_to_file(filename, data):\n",
    "    with open(filename, 'w') as f:\n",
    "        f.write(data)\n",
    "\n",
    "def read_from_file(filename):\n",
    "    with open(filename, 'r') as f:\n",
    "        return f.read()\n",
    "\n",
    "def store_customer_details(filename):\n",
    "    customers = []\n",
    "    for i in range(6):\n",
    "        print(\"Enter details for customer\", i + 1)\n",
    "        customer_id = input(\"Enter customer id: \")\n",
    "        name = input(\"Enter customer name: \")\n",
    "        location = input(\"Enter customer location: \")\n",
    "        phone_number = input(\"Enter customer phone number: \")\n",
    "        last_purchase_date = input(\"Enter customer last purchase date: \")\n",
    "        customers.append(\"{},{},{},{},{}\\n\".format(customer_id, name, location, phone_number, last_purchase_date))\n",
    "    write_to_file(filename, \"\".join(customers))"
   ]
  },
  {
   "cell_type": "code",
   "execution_count": 14,
   "id": "70aedf5c",
   "metadata": {},
   "outputs": [],
   "source": [
    "def display_customer_details(filename):\n",
    "    customer_details = read_from_file(filename)\n",
    "    print(\"Customer Id, Name, Location, Phone Number, Last Purchase Date\")\n",
    "    print(customer_details)"
   ]
  },
  {
   "cell_type": "code",
   "execution_count": 15,
   "id": "ec577eb4",
   "metadata": {},
   "outputs": [
    {
     "name": "stdout",
     "output_type": "stream",
     "text": [
      "Enter details for customer 1\n",
      "Enter customer id: 11\n",
      "Enter customer name: Rahu\n",
      "Enter customer location: Delhi\n",
      "Enter customer phone number: 8899\n",
      "Enter customer last purchase date: Dec 2\n",
      "Enter details for customer 2\n",
      "Enter customer id: 22\n",
      "Enter customer name: Rajesh\n",
      "Enter customer location: Hyd\n",
      "Enter customer phone number: 9900\n",
      "Enter customer last purchase date: Dce 4\n",
      "Enter details for customer 3\n",
      "Enter customer id: 33\n",
      "Enter customer name: Ram\n",
      "Enter customer location: Vizag\n",
      "Enter customer phone number: 0099\n",
      "Enter customer last purchase date: Dec 6\n",
      "Enter details for customer 4\n",
      "Enter customer id: 44\n",
      "Enter customer name: Gagan\n",
      "Enter customer location: Hyd\n",
      "Enter customer phone number: 0123\n",
      "Enter customer last purchase date: Dec 8\n",
      "Enter details for customer 5\n",
      "Enter customer id: 55\n",
      "Enter customer name: Sunil\n",
      "Enter customer location: Bangalore\n",
      "Enter customer phone number: 1122\n",
      "Enter customer last purchase date: Dec 10\n",
      "Enter details for customer 6\n",
      "Enter customer id: 66\n",
      "Enter customer name: Doctore\n",
      "Enter customer location: Haryana\n",
      "Enter customer phone number: 8877\n",
      "Enter customer last purchase date: Dec 12\n",
      "Customer Id, Name, Location, Phone Number, Last Purchase Date\n",
      "11,Rahu,Delhi,8899,Dec 2\n",
      "22,Rajesh,Hyd,9900,Dce 4\n",
      "33,Ram,Vizag,0099,Dec 6\n",
      "44,Gagan,Hyd,0123,Dec 8\n",
      "55,Sunil,Bangalore,1122,Dec 10\n",
      "66,Doctore,Haryana,8877,Dec 12\n",
      "\n"
     ]
    }
   ],
   "source": [
    "filename = \"customers.txt\"\n",
    "store_customer_details(filename)\n",
    "display_customer_details(filename)"
   ]
  },
  {
   "cell_type": "markdown",
   "id": "51f22264",
   "metadata": {
    "id": "51f22264"
   },
   "source": [
    "### 3. \n",
    "\n",
    "Build a Simple Calculator using Exception Handling (try, except) that solves 4 arithmetic operations like Addition, Subtraction, Multiplication and Division.\n"
   ]
  },
  {
   "cell_type": "code",
   "execution_count": null,
   "id": "5b52eb5c",
   "metadata": {
    "id": "5b52eb5c"
   },
   "outputs": [],
   "source": [
    "def calculate(num1, operator, num2):\n",
    "    try:\n",
    "        num1 = float(num1)\n",
    "        num2 = float(num2)\n",
    "        if operator == \"+\":\n",
    "            return num1 + num2\n",
    "        elif operator == \"-\":\n",
    "            return num1 - num2\n",
    "        elif operator == \"*\":\n",
    "            return num1 * num2\n",
    "        elif operator == \"/\":\n",
    "            if num2 == 0:\n",
    "                return \"Cannot divide by 0.\"\n",
    "            else:\n",
    "                return num1 / num2\n",
    "        else:\n",
    "            return \"Invalid operator.\"\n",
    "    except ValueError:\n",
    "        return \"Invalid input.\"\n",
    "\n",
    "\n",
    "print('Result of the given numbers and operators is : ', calculate(num1, operator, num2))"
   ]
  },
  {
   "cell_type": "code",
   "execution_count": 7,
   "id": "52825b28",
   "metadata": {},
   "outputs": [
    {
     "name": "stdout",
     "output_type": "stream",
     "text": [
      "Enter first number: 4\n",
      "Enter operator from these four (+, -, *, /): /\n",
      "Enter second number: 0\n"
     ]
    },
    {
     "data": {
      "text/plain": [
       "'Cannot divide by 0.'"
      ]
     },
     "execution_count": 7,
     "metadata": {},
     "output_type": "execute_result"
    }
   ],
   "source": [
    "num1 = input(\"Enter first number: \")\n",
    "operator = input(\"Enter operator from these four (+, -, *, /): \")\n",
    "num2 = input(\"Enter second number: \")\n",
    "\n",
    "calculate(num1, operator, num2)\n"
   ]
  },
  {
   "cell_type": "code",
   "execution_count": 8,
   "id": "f64b0aef",
   "metadata": {},
   "outputs": [
    {
     "name": "stdout",
     "output_type": "stream",
     "text": [
      "Enter first number: 3\n",
      "Enter operator from these four (+, -, *, /): *\n",
      "Enter second number: 1.2\n"
     ]
    },
    {
     "data": {
      "text/plain": [
       "3.5999999999999996"
      ]
     },
     "execution_count": 8,
     "metadata": {},
     "output_type": "execute_result"
    }
   ],
   "source": [
    "num1 = input(\"Enter first number: \")\n",
    "operator = input(\"Enter operator from these four (+, -, *, /): \")\n",
    "num2 = input(\"Enter second number: \")\n",
    "\n",
    "calculate(num1, operator, num2)\n"
   ]
  },
  {
   "cell_type": "code",
   "execution_count": 9,
   "id": "60c5c873",
   "metadata": {},
   "outputs": [
    {
     "name": "stdout",
     "output_type": "stream",
     "text": [
      "Enter first number: 7\n",
      "Enter operator from these four (+, -, *, /): ?\n",
      "Enter second number: 7\n"
     ]
    },
    {
     "data": {
      "text/plain": [
       "'Invalid operator.'"
      ]
     },
     "execution_count": 9,
     "metadata": {},
     "output_type": "execute_result"
    }
   ],
   "source": [
    "num1 = input(\"Enter first number: \")\n",
    "operator = input(\"Enter operator from these four (+, -, *, /): \")\n",
    "num2 = input(\"Enter second number: \")\n",
    "\n",
    "calculate(num1, operator, num2)\n"
   ]
  },
  {
   "cell_type": "code",
   "execution_count": null,
   "id": "3d015dd6",
   "metadata": {},
   "outputs": [],
   "source": []
  }
 ],
 "metadata": {
  "colab": {
   "provenance": []
  },
  "kernelspec": {
   "display_name": "Python 3 (ipykernel)",
   "language": "python",
   "name": "python3"
  },
  "language_info": {
   "codemirror_mode": {
    "name": "ipython",
    "version": 3
   },
   "file_extension": ".py",
   "mimetype": "text/x-python",
   "name": "python",
   "nbconvert_exporter": "python",
   "pygments_lexer": "ipython3",
   "version": "3.9.13"
  }
 },
 "nbformat": 4,
 "nbformat_minor": 5
}
